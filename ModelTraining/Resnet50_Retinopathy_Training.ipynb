{
  "nbformat": 4,
  "nbformat_minor": 0,
  "metadata": {
    "colab": {
      "provenance": [],
      "machine_shape": "hm",
      "gpuType": "A100",
      "authorship_tag": "ABX9TyNH6/+YRV5Xdi5g844nIzFZ",
      "include_colab_link": true
    },
    "kernelspec": {
      "name": "python3",
      "display_name": "Python 3"
    },
    "language_info": {
      "name": "python"
    },
    "accelerator": "GPU"
  },
  "cells": [
    {
      "cell_type": "markdown",
      "metadata": {
        "id": "view-in-github",
        "colab_type": "text"
      },
      "source": [
        "<a href=\"https://colab.research.google.com/github/AodhanGallagher/XAI-for-Diabetic-Retinopathy-Diagnosis/blob/main/ModelTraining/Resnet50_Retinopathy_Training.ipynb\" target=\"_parent\"><img src=\"https://colab.research.google.com/assets/colab-badge.svg\" alt=\"Open In Colab\"/></a>"
      ]
    },
    {
      "cell_type": "markdown",
      "source": [
        "# **Model Training and Evaluation**\n",
        "This file is for the fine-tuning and transfer of a pretrained ResNet-50 model (trained using ImageNet),\n",
        "so that it can be adjusted for retinographs and trained to detect and classify Diabetic Retinopathy from said retinographs. This fine-tuned model is then evaluated and saved.\n",
        "\\\n",
        "\\\n",
        "Google Colab was used for the increased computation power needed to efficiently work on this project"
      ],
      "metadata": {
        "id": "7yvf2vB0_leq"
      }
    },
    {
      "cell_type": "markdown",
      "source": [
        "## Mounting Google Drive"
      ],
      "metadata": {
        "id": "osBtl-eQAkVo"
      }
    },
    {
      "cell_type": "code",
      "source": [
        "# Importing and mounting my Google Drive account where the dataset is stored\n",
        "from google.colab import drive\n",
        "drive.mount('/content/gdrive')"
      ],
      "metadata": {
        "colab": {
          "base_uri": "https://localhost:8080/"
        },
        "id": "3md2njwwOmSc",
        "outputId": "7cc042db-6769-46a6-f0ab-8368551c07b8"
      },
      "execution_count": 1,
      "outputs": [
        {
          "output_type": "stream",
          "name": "stdout",
          "text": [
            "Mounted at /content/gdrive\n"
          ]
        }
      ]
    },
    {
      "cell_type": "markdown",
      "source": [
        "## Imports + Seed and Settings Configuration"
      ],
      "metadata": {
        "id": "UnXEVlgxAxK4"
      }
    },
    {
      "cell_type": "code",
      "execution_count": 2,
      "metadata": {
        "id": "sHZ3SOYvL-Up"
      },
      "outputs": [],
      "source": [
        "# Importing relevant libraries for getting, fine-tuning and training the model\n",
        "import os\n",
        "import random\n",
        "import warnings\n",
        "import numpy as np\n",
        "import pandas as pd\n",
        "import seaborn as sns\n",
        "import tensorflow as tf\n",
        "import matplotlib.pyplot as plt\n",
        "import pickle\n",
        "from sklearn.utils import class_weight\n",
        "from sklearn.model_selection import train_test_split\n",
        "from sklearn.metrics import confusion_matrix, cohen_kappa_score\n",
        "from keras.models import Model\n",
        "from keras import optimizers, applications\n",
        "from keras.preprocessing.image import ImageDataGenerator\n",
        "from keras.callbacks import EarlyStopping, ReduceLROnPlateau\n",
        "from keras.layers import Dense, Dropout, GlobalAveragePooling2D, Input\n",
        "\n",
        "# Defining function to set seeds in order to make this experiment reproducible.\n",
        "def seed_everything(seed=0):\n",
        "    random.seed(seed)\n",
        "    os.environ['PYTHONHASHSEED'] = str(seed)\n",
        "    np.random.seed(seed)\n",
        "    tf.random.set_seed(seed)\n",
        "\n",
        "# Setting seed to 0 for this experiment.\n",
        "seed = 0\n",
        "seed_everything(seed)\n",
        "\n",
        "# Configuring matplotlib parameters so they appear in the notebook and with appropriate style set\n",
        "%matplotlib inline\n",
        "sns.set(style=\"whitegrid\")\n",
        "\n",
        "# Ignoring warnings that are thrown\n",
        "warnings.filterwarnings(\"ignore\")"
      ]
    },
    {
      "cell_type": "markdown",
      "source": [
        "## Loading and Preparing the Data"
      ],
      "metadata": {
        "id": "oLZhz6omBR-n"
      }
    },
    {
      "cell_type": "code",
      "source": [
        "# Getting the train and test set\n",
        "# NOTE: The set path name used in this .ipynb file is for accessing the dataset within my own google drive,\n",
        "# this path name can be changed to match the storage location of the APTOS dataset on other devices\n",
        "df_train = pd.read_csv('/content/gdrive/MyDrive/Dissertation/final-year-project-AodhanGallagher/Datasets/ProcessedAPTOS/train.csv')\n",
        "df_test = pd.read_csv('/content/gdrive/MyDrive/Dissertation/final-year-project-AodhanGallagher/Datasets/ProcessedAPTOS/test.csv')\n",
        "\n",
        "# Printing number of train and test samples to confirm they have been read in correctly\n",
        "print('Number of train samples: ', df_train.shape[0])\n",
        "print('Number of test samples: ', df_test.shape[0])\n",
        "\n",
        "# Appending .png at the end of the id code and converting the diagnosis to a string\n",
        "# for ease of use in training the model\n",
        "df_train[\"id_code\"] = df_train[\"id_code\"].apply(lambda x: x + \".png\")\n",
        "df_test[\"id_code\"] = df_test[\"id_code\"].apply(lambda x: x + \".png\")\n",
        "df_train['diagnosis'] = df_train['diagnosis'].astype('str')\n",
        "\n",
        "# Displaying dataframe values to ensure they were updsted correctly\n",
        "display(df_train.head())"
      ],
      "metadata": {
        "id": "bIILF7_-YLNI",
        "colab": {
          "base_uri": "https://localhost:8080/",
          "height": 241
        },
        "outputId": "52ef9f4f-47f7-4332-dd64-286d19521d28"
      },
      "execution_count": 3,
      "outputs": [
        {
          "output_type": "stream",
          "name": "stdout",
          "text": [
            "Number of train samples:  3662\n",
            "Number of test samples:  1928\n"
          ]
        },
        {
          "output_type": "display_data",
          "data": {
            "text/plain": [
              "            id_code diagnosis\n",
              "0  000c1434d8d7.png         2\n",
              "1  001639a390f0.png         4\n",
              "2  0024cdab0c1e.png         1\n",
              "3  002c21358ce6.png         0\n",
              "4  005b95c28852.png         0"
            ],
            "text/html": [
              "\n",
              "  <div id=\"df-94f07d71-2cd6-45b4-b120-b4c1f3572082\" class=\"colab-df-container\">\n",
              "    <div>\n",
              "<style scoped>\n",
              "    .dataframe tbody tr th:only-of-type {\n",
              "        vertical-align: middle;\n",
              "    }\n",
              "\n",
              "    .dataframe tbody tr th {\n",
              "        vertical-align: top;\n",
              "    }\n",
              "\n",
              "    .dataframe thead th {\n",
              "        text-align: right;\n",
              "    }\n",
              "</style>\n",
              "<table border=\"1\" class=\"dataframe\">\n",
              "  <thead>\n",
              "    <tr style=\"text-align: right;\">\n",
              "      <th></th>\n",
              "      <th>id_code</th>\n",
              "      <th>diagnosis</th>\n",
              "    </tr>\n",
              "  </thead>\n",
              "  <tbody>\n",
              "    <tr>\n",
              "      <th>0</th>\n",
              "      <td>000c1434d8d7.png</td>\n",
              "      <td>2</td>\n",
              "    </tr>\n",
              "    <tr>\n",
              "      <th>1</th>\n",
              "      <td>001639a390f0.png</td>\n",
              "      <td>4</td>\n",
              "    </tr>\n",
              "    <tr>\n",
              "      <th>2</th>\n",
              "      <td>0024cdab0c1e.png</td>\n",
              "      <td>1</td>\n",
              "    </tr>\n",
              "    <tr>\n",
              "      <th>3</th>\n",
              "      <td>002c21358ce6.png</td>\n",
              "      <td>0</td>\n",
              "    </tr>\n",
              "    <tr>\n",
              "      <th>4</th>\n",
              "      <td>005b95c28852.png</td>\n",
              "      <td>0</td>\n",
              "    </tr>\n",
              "  </tbody>\n",
              "</table>\n",
              "</div>\n",
              "    <div class=\"colab-df-buttons\">\n",
              "\n",
              "  <div class=\"colab-df-container\">\n",
              "    <button class=\"colab-df-convert\" onclick=\"convertToInteractive('df-94f07d71-2cd6-45b4-b120-b4c1f3572082')\"\n",
              "            title=\"Convert this dataframe to an interactive table.\"\n",
              "            style=\"display:none;\">\n",
              "\n",
              "  <svg xmlns=\"http://www.w3.org/2000/svg\" height=\"24px\" viewBox=\"0 -960 960 960\">\n",
              "    <path d=\"M120-120v-720h720v720H120Zm60-500h600v-160H180v160Zm220 220h160v-160H400v160Zm0 220h160v-160H400v160ZM180-400h160v-160H180v160Zm440 0h160v-160H620v160ZM180-180h160v-160H180v160Zm440 0h160v-160H620v160Z\"/>\n",
              "  </svg>\n",
              "    </button>\n",
              "\n",
              "  <style>\n",
              "    .colab-df-container {\n",
              "      display:flex;\n",
              "      gap: 12px;\n",
              "    }\n",
              "\n",
              "    .colab-df-convert {\n",
              "      background-color: #E8F0FE;\n",
              "      border: none;\n",
              "      border-radius: 50%;\n",
              "      cursor: pointer;\n",
              "      display: none;\n",
              "      fill: #1967D2;\n",
              "      height: 32px;\n",
              "      padding: 0 0 0 0;\n",
              "      width: 32px;\n",
              "    }\n",
              "\n",
              "    .colab-df-convert:hover {\n",
              "      background-color: #E2EBFA;\n",
              "      box-shadow: 0px 1px 2px rgba(60, 64, 67, 0.3), 0px 1px 3px 1px rgba(60, 64, 67, 0.15);\n",
              "      fill: #174EA6;\n",
              "    }\n",
              "\n",
              "    .colab-df-buttons div {\n",
              "      margin-bottom: 4px;\n",
              "    }\n",
              "\n",
              "    [theme=dark] .colab-df-convert {\n",
              "      background-color: #3B4455;\n",
              "      fill: #D2E3FC;\n",
              "    }\n",
              "\n",
              "    [theme=dark] .colab-df-convert:hover {\n",
              "      background-color: #434B5C;\n",
              "      box-shadow: 0px 1px 3px 1px rgba(0, 0, 0, 0.15);\n",
              "      filter: drop-shadow(0px 1px 2px rgba(0, 0, 0, 0.3));\n",
              "      fill: #FFFFFF;\n",
              "    }\n",
              "  </style>\n",
              "\n",
              "    <script>\n",
              "      const buttonEl =\n",
              "        document.querySelector('#df-94f07d71-2cd6-45b4-b120-b4c1f3572082 button.colab-df-convert');\n",
              "      buttonEl.style.display =\n",
              "        google.colab.kernel.accessAllowed ? 'block' : 'none';\n",
              "\n",
              "      async function convertToInteractive(key) {\n",
              "        const element = document.querySelector('#df-94f07d71-2cd6-45b4-b120-b4c1f3572082');\n",
              "        const dataTable =\n",
              "          await google.colab.kernel.invokeFunction('convertToInteractive',\n",
              "                                                    [key], {});\n",
              "        if (!dataTable) return;\n",
              "\n",
              "        const docLinkHtml = 'Like what you see? Visit the ' +\n",
              "          '<a target=\"_blank\" href=https://colab.research.google.com/notebooks/data_table.ipynb>data table notebook</a>'\n",
              "          + ' to learn more about interactive tables.';\n",
              "        element.innerHTML = '';\n",
              "        dataTable['output_type'] = 'display_data';\n",
              "        await google.colab.output.renderOutput(dataTable, element);\n",
              "        const docLink = document.createElement('div');\n",
              "        docLink.innerHTML = docLinkHtml;\n",
              "        element.appendChild(docLink);\n",
              "      }\n",
              "    </script>\n",
              "  </div>\n",
              "\n",
              "\n",
              "<div id=\"df-9627efae-f688-419c-ab7b-bda71ef01414\">\n",
              "  <button class=\"colab-df-quickchart\" onclick=\"quickchart('df-9627efae-f688-419c-ab7b-bda71ef01414')\"\n",
              "            title=\"Suggest charts\"\n",
              "            style=\"display:none;\">\n",
              "\n",
              "<svg xmlns=\"http://www.w3.org/2000/svg\" height=\"24px\"viewBox=\"0 0 24 24\"\n",
              "     width=\"24px\">\n",
              "    <g>\n",
              "        <path d=\"M19 3H5c-1.1 0-2 .9-2 2v14c0 1.1.9 2 2 2h14c1.1 0 2-.9 2-2V5c0-1.1-.9-2-2-2zM9 17H7v-7h2v7zm4 0h-2V7h2v10zm4 0h-2v-4h2v4z\"/>\n",
              "    </g>\n",
              "</svg>\n",
              "  </button>\n",
              "\n",
              "<style>\n",
              "  .colab-df-quickchart {\n",
              "      --bg-color: #E8F0FE;\n",
              "      --fill-color: #1967D2;\n",
              "      --hover-bg-color: #E2EBFA;\n",
              "      --hover-fill-color: #174EA6;\n",
              "      --disabled-fill-color: #AAA;\n",
              "      --disabled-bg-color: #DDD;\n",
              "  }\n",
              "\n",
              "  [theme=dark] .colab-df-quickchart {\n",
              "      --bg-color: #3B4455;\n",
              "      --fill-color: #D2E3FC;\n",
              "      --hover-bg-color: #434B5C;\n",
              "      --hover-fill-color: #FFFFFF;\n",
              "      --disabled-bg-color: #3B4455;\n",
              "      --disabled-fill-color: #666;\n",
              "  }\n",
              "\n",
              "  .colab-df-quickchart {\n",
              "    background-color: var(--bg-color);\n",
              "    border: none;\n",
              "    border-radius: 50%;\n",
              "    cursor: pointer;\n",
              "    display: none;\n",
              "    fill: var(--fill-color);\n",
              "    height: 32px;\n",
              "    padding: 0;\n",
              "    width: 32px;\n",
              "  }\n",
              "\n",
              "  .colab-df-quickchart:hover {\n",
              "    background-color: var(--hover-bg-color);\n",
              "    box-shadow: 0 1px 2px rgba(60, 64, 67, 0.3), 0 1px 3px 1px rgba(60, 64, 67, 0.15);\n",
              "    fill: var(--button-hover-fill-color);\n",
              "  }\n",
              "\n",
              "  .colab-df-quickchart-complete:disabled,\n",
              "  .colab-df-quickchart-complete:disabled:hover {\n",
              "    background-color: var(--disabled-bg-color);\n",
              "    fill: var(--disabled-fill-color);\n",
              "    box-shadow: none;\n",
              "  }\n",
              "\n",
              "  .colab-df-spinner {\n",
              "    border: 2px solid var(--fill-color);\n",
              "    border-color: transparent;\n",
              "    border-bottom-color: var(--fill-color);\n",
              "    animation:\n",
              "      spin 1s steps(1) infinite;\n",
              "  }\n",
              "\n",
              "  @keyframes spin {\n",
              "    0% {\n",
              "      border-color: transparent;\n",
              "      border-bottom-color: var(--fill-color);\n",
              "      border-left-color: var(--fill-color);\n",
              "    }\n",
              "    20% {\n",
              "      border-color: transparent;\n",
              "      border-left-color: var(--fill-color);\n",
              "      border-top-color: var(--fill-color);\n",
              "    }\n",
              "    30% {\n",
              "      border-color: transparent;\n",
              "      border-left-color: var(--fill-color);\n",
              "      border-top-color: var(--fill-color);\n",
              "      border-right-color: var(--fill-color);\n",
              "    }\n",
              "    40% {\n",
              "      border-color: transparent;\n",
              "      border-right-color: var(--fill-color);\n",
              "      border-top-color: var(--fill-color);\n",
              "    }\n",
              "    60% {\n",
              "      border-color: transparent;\n",
              "      border-right-color: var(--fill-color);\n",
              "    }\n",
              "    80% {\n",
              "      border-color: transparent;\n",
              "      border-right-color: var(--fill-color);\n",
              "      border-bottom-color: var(--fill-color);\n",
              "    }\n",
              "    90% {\n",
              "      border-color: transparent;\n",
              "      border-bottom-color: var(--fill-color);\n",
              "    }\n",
              "  }\n",
              "</style>\n",
              "\n",
              "  <script>\n",
              "    async function quickchart(key) {\n",
              "      const quickchartButtonEl =\n",
              "        document.querySelector('#' + key + ' button');\n",
              "      quickchartButtonEl.disabled = true;  // To prevent multiple clicks.\n",
              "      quickchartButtonEl.classList.add('colab-df-spinner');\n",
              "      try {\n",
              "        const charts = await google.colab.kernel.invokeFunction(\n",
              "            'suggestCharts', [key], {});\n",
              "      } catch (error) {\n",
              "        console.error('Error during call to suggestCharts:', error);\n",
              "      }\n",
              "      quickchartButtonEl.classList.remove('colab-df-spinner');\n",
              "      quickchartButtonEl.classList.add('colab-df-quickchart-complete');\n",
              "    }\n",
              "    (() => {\n",
              "      let quickchartButtonEl =\n",
              "        document.querySelector('#df-9627efae-f688-419c-ab7b-bda71ef01414 button');\n",
              "      quickchartButtonEl.style.display =\n",
              "        google.colab.kernel.accessAllowed ? 'block' : 'none';\n",
              "    })();\n",
              "  </script>\n",
              "</div>\n",
              "    </div>\n",
              "  </div>\n"
            ],
            "application/vnd.google.colaboratory.intrinsic+json": {
              "type": "dataframe",
              "summary": "{\n  \"name\": \"display(df_train\",\n  \"rows\": 5,\n  \"fields\": [\n    {\n      \"column\": \"id_code\",\n      \"properties\": {\n        \"dtype\": \"string\",\n        \"num_unique_values\": 5,\n        \"samples\": [\n          \"001639a390f0.png\",\n          \"005b95c28852.png\",\n          \"0024cdab0c1e.png\"\n        ],\n        \"semantic_type\": \"\",\n        \"description\": \"\"\n      }\n    },\n    {\n      \"column\": \"diagnosis\",\n      \"properties\": {\n        \"dtype\": \"string\",\n        \"num_unique_values\": 4,\n        \"samples\": [\n          \"4\",\n          \"0\",\n          \"2\"\n        ],\n        \"semantic_type\": \"\",\n        \"description\": \"\"\n      }\n    }\n  ]\n}"
            }
          },
          "metadata": {}
        }
      ]
    },
    {
      "cell_type": "markdown",
      "source": [
        "## Parameter Setting"
      ],
      "metadata": {
        "id": "fOZ9y7G7BpLj"
      }
    },
    {
      "cell_type": "code",
      "source": [
        "# Setting the model's parameters\n",
        "BATCH_SIZE = 8\n",
        "EPOCHS = 40\n",
        "WARMUP_EPOCHS = 2\n",
        "LEARNING_RATE = 1e-4\n",
        "WARMUP_LEARNING_RATE = 1e-3\n",
        "CANAL = 3\n",
        "N_CLASSES = df_train['diagnosis'].nunique()\n",
        "ES_PATIENCE = 5\n",
        "RLROP_PATIENCE = 3\n",
        "DECAY_DROP = 0.5\n",
        "\n",
        "# Setting image size parameters\n",
        "HEIGHT = 224\n",
        "WIDTH = 224"
      ],
      "metadata": {
        "id": "QbKX3T37Vwt7"
      },
      "execution_count": 4,
      "outputs": []
    },
    {
      "cell_type": "markdown",
      "source": [
        "## Train-Test Split"
      ],
      "metadata": {
        "id": "FKN8bFaJBxnh"
      }
    },
    {
      "cell_type": "code",
      "source": [
        "# Splitting the data into training and validation sets (80% training and 20% validation)\n",
        "train_x, valid_x = train_test_split(df_train, test_size=0.2, random_state=seed)"
      ],
      "metadata": {
        "id": "I3dr68UcbgAK"
      },
      "execution_count": 5,
      "outputs": []
    },
    {
      "cell_type": "markdown",
      "source": [
        "## Creating Data Generators"
      ],
      "metadata": {
        "id": "IPB_iNE6B8VF"
      }
    },
    {
      "cell_type": "code",
      "source": [
        "# The following code acts as \"data generators\" which loads images in batches from their respective dataframes\n",
        "# and applies data augmentation techniques (e.g. rotating and flipping) to these images\n",
        "# This is done primarily to avoid overfitting and also to improve generalisation.\n",
        "\n",
        "# Creating ImageDataDenerator object with pixel scaling, full rotation and image flipping enabled (for the train set)\n",
        "train_datagen = ImageDataGenerator(rescale=1./255, rotation_range=360, horizontal_flip=True, vertical_flip=True)\n",
        "\n",
        "# Creating the generator for the train set samples with the appropriate parameters\n",
        "train_generator = train_datagen.flow_from_dataframe(\n",
        "    dataframe=train_x,\n",
        "    directory=\"/content/gdrive/MyDrive/Dissertation/final-year-project-AodhanGallagher/Datasets/ProcessedAPTOS/train_images/\",\n",
        "    x_col=\"id_code\",\n",
        "    y_col=\"diagnosis\",\n",
        "    class_mode=\"categorical\",\n",
        "    batch_size=BATCH_SIZE,\n",
        "    target_size=(HEIGHT, WIDTH),\n",
        "    seed=0)\n",
        "\n",
        "\n",
        "# Creating ImageDataDenerator object with pixel scaling enabled (for the validation set)\n",
        "validation_datagen = ImageDataGenerator(rescale=1./255)\n",
        "\n",
        "# Creating the generator for the validation set samples with the appropriate parameters\n",
        "valid_generator = validation_datagen.flow_from_dataframe(\n",
        "    dataframe=valid_x,\n",
        "    directory=\"/content/gdrive/MyDrive/Dissertation/final-year-project-AodhanGallagher/Datasets/ProcessedAPTOS/train_images/\",\n",
        "    x_col=\"id_code\",\n",
        "    y_col=\"diagnosis\",\n",
        "    class_mode=\"categorical\",\n",
        "    batch_size=BATCH_SIZE,\n",
        "    target_size=(HEIGHT, WIDTH),\n",
        "    seed=0)\n",
        "\n",
        "\n",
        "# Creating ImageDataDenerator object with pixel scaling enabled (for the test set)\n",
        "test_datagen = ImageDataGenerator(rescale=1./255)\n",
        "\n",
        "# Creating the generator for the test set samples with the appropriate parameters\n",
        "test_generator = test_datagen.flow_from_dataframe(\n",
        "        dataframe=df_test,\n",
        "        directory = \"/content/gdrive/MyDrive/Dissertation/final-year-project-AodhanGallagher/Datasets/ProcessedAPTOS/test_images/\",\n",
        "        x_col=\"id_code\",\n",
        "        batch_size=1,\n",
        "        class_mode=None,\n",
        "        shuffle=False,\n",
        "        target_size=(HEIGHT, WIDTH),\n",
        "        seed=0)"
      ],
      "metadata": {
        "id": "3iS8LXrub0Zb",
        "colab": {
          "base_uri": "https://localhost:8080/"
        },
        "outputId": "ae4df9bd-d6ec-48eb-a929-85ee11e2906d"
      },
      "execution_count": 6,
      "outputs": [
        {
          "output_type": "stream",
          "name": "stdout",
          "text": [
            "Found 2929 validated image filenames belonging to 5 classes.\n",
            "Found 733 validated image filenames belonging to 5 classes.\n",
            "Found 1928 validated image filenames.\n"
          ]
        }
      ]
    },
    {
      "cell_type": "markdown",
      "source": [
        "## Model Creation and Training"
      ],
      "metadata": {
        "id": "M_aDTT2JDDt_"
      }
    },
    {
      "cell_type": "markdown",
      "source": [
        "### Creating a ResNet-50 Model with Pre-trained Weights"
      ],
      "metadata": {
        "id": "jYKJgo7IDrS0"
      }
    },
    {
      "cell_type": "code",
      "source": [
        "# Function used to create a deep learning model which uses the ResNet-50 architecture as a base,\n",
        "# with additional layers on top for classification tasks (for use in our multi-class classification of Diabetic Retinopathy)\n",
        "def create_model(input_shape, n_out):\n",
        "    input_tensor = Input(shape=input_shape)\n",
        "    base_model = applications.ResNet50(weights=None, include_top=False, input_tensor=input_tensor)\n",
        "    base_model.load_weights('/content/gdrive/MyDrive/Dissertation/final-year-project-AodhanGallagher/ModelTraining/ModelWeights/resnet50_weights_tf_dim_ordering_tf_kernels_notop.h5')\n",
        "\n",
        "    x = GlobalAveragePooling2D()(base_model.output)\n",
        "    x = Dropout(0.5)(x)\n",
        "    x = Dense(2048, activation='relu')(x)\n",
        "    x = Dropout(0.5)(x)\n",
        "    final_output = Dense(n_out, activation='softmax', name='final_output')(x)\n",
        "    model = Model(input_tensor, final_output)\n",
        "\n",
        "    return model"
      ],
      "metadata": {
        "id": "yZsFSa01ojDk"
      },
      "execution_count": 7,
      "outputs": []
    },
    {
      "cell_type": "markdown",
      "source": [
        "### Training Top 5 Layers of Model"
      ],
      "metadata": {
        "id": "qCVv3JhvDyMs"
      }
    },
    {
      "cell_type": "code",
      "source": [
        "# Creating our model for Diabetic Retinopathy classification\n",
        "model = create_model(input_shape=(HEIGHT, WIDTH, CANAL), n_out=N_CLASSES)\n",
        "\n",
        "# Setting all the layers in the model to be untrainable - this freezes their weights during training\n",
        "for layer in model.layers:\n",
        "    layer.trainable = False\n",
        "\n",
        "# Looping over the last 5 layers in the model and allowing them to be trainable during the training process\n",
        "# This is done to fine-tune the weights of the last 5 layers to adapt the model for multi-class classification of DR\n",
        "for i in range(-5, 0):\n",
        "    model.layers[i].trainable = True\n",
        "\n",
        "# Computing the class weights based on the class distribution of the train set\n",
        "# This is done to address class imbalance and ensure the model is not biased towards more frequent classes\n",
        "# This is especially important with the APTOS dataset used as there is a class imbalance, with class 0 (no DR)\n",
        "# appearing much more frequently than all the other classes combined\n",
        "class_weights = class_weight.compute_class_weight(\n",
        "                                class_weight = 'balanced',\n",
        "                                classes = np.unique(df_train['diagnosis'].astype('int').values),\n",
        "                                y = df_train['diagnosis'].astype('int').values\n",
        "                                )\n",
        "\n",
        "# Organising the class weights in a dictionary with each class matched to its corresponding weight\n",
        "class_weights = {i : class_weights[i] for i in range(5)}\n",
        "\n",
        "metric_list = [\"accuracy\"] # Setting the evaluation metric to show the accuracy of the model\n",
        "optimizer = optimizers.Adam(learning_rate=WARMUP_LEARNING_RATE) # Initialising the Adam optimiser with the warmup learning rate of 1e-3\n",
        "\n",
        "# Compiling the deep learning model with an optimizer, loss function and evaluation metric\n",
        "model.compile(optimizer=optimizer, loss='categorical_crossentropy',  metrics=metric_list)"
      ],
      "metadata": {
        "id": "5wbC7mzkplzR"
      },
      "execution_count": 8,
      "outputs": []
    },
    {
      "cell_type": "markdown",
      "source": [
        "### 'Warming Up' the Model"
      ],
      "metadata": {
        "id": "oh-xJI1OEZE2"
      }
    },
    {
      "cell_type": "code",
      "source": [
        "# Calculating the number of steps needed to complete one epoch for the training and validation set\n",
        "STEP_SIZE_TRAIN = train_generator.n//train_generator.batch_size\n",
        "STEP_SIZE_VALID = valid_generator.n//valid_generator.batch_size\n",
        "\n",
        "# Warmup training the model with lower learning rate and lower number of epochs\n",
        "# to stabilise training and avoid getting stuck in local minima\n",
        "history_warmup = model.fit_generator(generator=train_generator,\n",
        "                                     steps_per_epoch=STEP_SIZE_TRAIN,\n",
        "                                     validation_data=valid_generator,\n",
        "                                     validation_steps=STEP_SIZE_VALID,\n",
        "                                     epochs=WARMUP_EPOCHS,\n",
        "                                     class_weight=class_weights,\n",
        "                                     verbose=1).history"
      ],
      "metadata": {
        "colab": {
          "base_uri": "https://localhost:8080/"
        },
        "id": "bwbsGeGsfsOf",
        "outputId": "e5258cb6-6777-4e93-a36f-92b30ad4f42e"
      },
      "execution_count": 9,
      "outputs": [
        {
          "output_type": "stream",
          "name": "stdout",
          "text": [
            "Epoch 1/2\n",
            "366/366 [==============================] - 1866s 5s/step - loss: 2.3454 - accuracy: 0.2746 - val_loss: 1.2684 - val_accuracy: 0.4739\n",
            "Epoch 2/2\n",
            "366/366 [==============================] - 45s 124ms/step - loss: 1.7477 - accuracy: 0.3153 - val_loss: 1.1541 - val_accuracy: 0.4560\n"
          ]
        }
      ]
    },
    {
      "cell_type": "markdown",
      "source": [
        "### Fine-tuning the Full Model"
      ],
      "metadata": {
        "id": "gZySaNk-Ej14"
      }
    },
    {
      "cell_type": "code",
      "source": [
        "# The following code is used to fine-tune the completed model\n",
        "\n",
        "# Setting all the layers in the model to be trainable\n",
        "for layer in model.layers:\n",
        "    layer.trainable = True\n",
        "\n",
        "# Callback to stop model training if the 'val_loss' metric stops improving after a set amount of epochs (to avoid overfitting)\n",
        "es = EarlyStopping(monitor='val_loss', mode='min', patience=ES_PATIENCE, restore_best_weights=True, verbose=1)\n",
        "\n",
        "# Callback to reduce the learning rate if the 'val_loss' metric stops improving after a set amount of epochs (to avoid getting stuck in local minima)\n",
        "rlrop = ReduceLROnPlateau(monitor='val_loss', mode='min', patience=RLROP_PATIENCE, factor=DECAY_DROP, min_lr=1e-6, verbose=1)\n",
        "\n",
        "callback_list = [es, rlrop] # Initialising callback list with the above callbacks\n",
        "optimizer = optimizers.Adam(learning_rate=LEARNING_RATE) # Initialising the Adam optimiser with the learning rate of 1e-4\n",
        "\n",
        "# Compiling the deep learning model with an optimizer, loss function and evaluation metric\n",
        "model.compile(optimizer=optimizer, loss='categorical_crossentropy',  metrics=metric_list)"
      ],
      "metadata": {
        "id": "z2L_5Db1ilay"
      },
      "execution_count": 10,
      "outputs": []
    },
    {
      "cell_type": "markdown",
      "source": [
        "### Training the Model"
      ],
      "metadata": {
        "id": "MyfdPHUsEzxB"
      }
    },
    {
      "cell_type": "code",
      "source": [
        "# Training the model using a generator-based training approach, with the early stopping and learning rate adjustment callbacks\n",
        "history_finetuning = model.fit_generator(generator=train_generator,\n",
        "                                          steps_per_epoch=STEP_SIZE_TRAIN,\n",
        "                                          validation_data=valid_generator,\n",
        "                                          validation_steps=STEP_SIZE_VALID,\n",
        "                                          epochs=EPOCHS,\n",
        "                                          callbacks=callback_list,\n",
        "                                          class_weight=class_weights,\n",
        "                                          verbose=1).history\n",
        "\n",
        "# Print statement to confirm model has been successfully trained\n",
        "print(\"Model Trained\")"
      ],
      "metadata": {
        "id": "SbRY5-xq5z8-",
        "colab": {
          "base_uri": "https://localhost:8080/"
        },
        "outputId": "2f25f65e-11ea-4924-c549-70982b4b543a"
      },
      "execution_count": 11,
      "outputs": [
        {
          "output_type": "stream",
          "name": "stdout",
          "text": [
            "Epoch 1/40\n",
            "366/366 [==============================] - 76s 126ms/step - loss: 2.2815 - accuracy: 0.5231 - val_loss: 6.7636 - val_accuracy: 0.4821 - lr: 1.0000e-04\n",
            "Epoch 2/40\n",
            "366/366 [==============================] - 46s 126ms/step - loss: 1.1264 - accuracy: 0.6241 - val_loss: 1.8928 - val_accuracy: 0.5728 - lr: 1.0000e-04\n",
            "Epoch 3/40\n",
            "366/366 [==============================] - 46s 125ms/step - loss: 1.0459 - accuracy: 0.6662 - val_loss: 0.7759 - val_accuracy: 0.6964 - lr: 1.0000e-04\n",
            "Epoch 4/40\n",
            "366/366 [==============================] - 45s 123ms/step - loss: 0.9629 - accuracy: 0.6806 - val_loss: 0.9001 - val_accuracy: 0.6484 - lr: 1.0000e-04\n",
            "Epoch 5/40\n",
            "366/366 [==============================] - 47s 128ms/step - loss: 0.9570 - accuracy: 0.6847 - val_loss: 0.8798 - val_accuracy: 0.6923 - lr: 1.0000e-04\n",
            "Epoch 6/40\n",
            "366/366 [==============================] - ETA: 0s - loss: 0.9089 - accuracy: 0.7100\n",
            "Epoch 6: ReduceLROnPlateau reducing learning rate to 4.999999873689376e-05.\n",
            "366/366 [==============================] - 46s 127ms/step - loss: 0.9089 - accuracy: 0.7100 - val_loss: 1.0175 - val_accuracy: 0.6799 - lr: 1.0000e-04\n",
            "Epoch 7/40\n",
            "366/366 [==============================] - 46s 126ms/step - loss: 0.8332 - accuracy: 0.7316 - val_loss: 0.7573 - val_accuracy: 0.7170 - lr: 5.0000e-05\n",
            "Epoch 8/40\n",
            "366/366 [==============================] - 47s 128ms/step - loss: 0.8046 - accuracy: 0.7597 - val_loss: 0.8230 - val_accuracy: 0.6758 - lr: 5.0000e-05\n",
            "Epoch 9/40\n",
            "366/366 [==============================] - 46s 125ms/step - loss: 0.7634 - accuracy: 0.7621 - val_loss: 0.7766 - val_accuracy: 0.7088 - lr: 5.0000e-05\n",
            "Epoch 10/40\n",
            "366/366 [==============================] - 47s 129ms/step - loss: 0.7387 - accuracy: 0.7771 - val_loss: 0.7554 - val_accuracy: 0.7198 - lr: 5.0000e-05\n",
            "Epoch 11/40\n",
            "366/366 [==============================] - 46s 127ms/step - loss: 0.7104 - accuracy: 0.7812 - val_loss: 0.8240 - val_accuracy: 0.7212 - lr: 5.0000e-05\n",
            "Epoch 12/40\n",
            "366/366 [==============================] - 45s 123ms/step - loss: 0.7367 - accuracy: 0.7679 - val_loss: 0.8088 - val_accuracy: 0.7198 - lr: 5.0000e-05\n",
            "Epoch 13/40\n",
            "366/366 [==============================] - ETA: 0s - loss: 0.6701 - accuracy: 0.7953\n",
            "Epoch 13: ReduceLROnPlateau reducing learning rate to 2.499999936844688e-05.\n",
            "366/366 [==============================] - 47s 129ms/step - loss: 0.6701 - accuracy: 0.7953 - val_loss: 0.9596 - val_accuracy: 0.7047 - lr: 5.0000e-05\n",
            "Epoch 14/40\n",
            "366/366 [==============================] - 46s 124ms/step - loss: 0.6432 - accuracy: 0.8097 - val_loss: 0.7360 - val_accuracy: 0.7308 - lr: 2.5000e-05\n",
            "Epoch 15/40\n",
            "366/366 [==============================] - 46s 125ms/step - loss: 0.5986 - accuracy: 0.8083 - val_loss: 0.8884 - val_accuracy: 0.7033 - lr: 2.5000e-05\n",
            "Epoch 16/40\n",
            "366/366 [==============================] - 46s 127ms/step - loss: 0.5713 - accuracy: 0.8254 - val_loss: 0.9708 - val_accuracy: 0.7212 - lr: 2.5000e-05\n",
            "Epoch 17/40\n",
            "366/366 [==============================] - 46s 126ms/step - loss: 0.5583 - accuracy: 0.8244 - val_loss: 0.7187 - val_accuracy: 0.7541 - lr: 2.5000e-05\n",
            "Epoch 18/40\n",
            "366/366 [==============================] - 46s 126ms/step - loss: 0.5574 - accuracy: 0.8316 - val_loss: 0.8064 - val_accuracy: 0.7253 - lr: 2.5000e-05\n",
            "Epoch 19/40\n",
            "366/366 [==============================] - 47s 128ms/step - loss: 0.5510 - accuracy: 0.8343 - val_loss: 0.8350 - val_accuracy: 0.7253 - lr: 2.5000e-05\n",
            "Epoch 20/40\n",
            "366/366 [==============================] - ETA: 0s - loss: 0.5483 - accuracy: 0.8340\n",
            "Epoch 20: ReduceLROnPlateau reducing learning rate to 1.249999968422344e-05.\n",
            "366/366 [==============================] - 47s 129ms/step - loss: 0.5483 - accuracy: 0.8340 - val_loss: 0.7983 - val_accuracy: 0.7266 - lr: 2.5000e-05\n",
            "Epoch 21/40\n",
            "366/366 [==============================] - 48s 131ms/step - loss: 0.4573 - accuracy: 0.8542 - val_loss: 0.8758 - val_accuracy: 0.7308 - lr: 1.2500e-05\n",
            "Epoch 22/40\n",
            "366/366 [==============================] - ETA: 0s - loss: 0.4493 - accuracy: 0.8566Restoring model weights from the end of the best epoch: 17.\n",
            "366/366 [==============================] - 48s 131ms/step - loss: 0.4493 - accuracy: 0.8566 - val_loss: 0.7939 - val_accuracy: 0.7610 - lr: 1.2500e-05\n",
            "Epoch 22: early stopping\n",
            "Model Trained\n"
          ]
        }
      ]
    },
    {
      "cell_type": "markdown",
      "source": [
        "## Model Evaluation"
      ],
      "metadata": {
        "id": "tfH7b5BdE9Uv"
      }
    },
    {
      "cell_type": "markdown",
      "source": [
        "### Creating Model Loss Graph"
      ],
      "metadata": {
        "id": "VPVkRfbiFBTg"
      }
    },
    {
      "cell_type": "code",
      "source": [
        "# Plotting a line graph to show the model loss\n",
        "\n",
        "# Creating dictionary to house the training history (formed from both warm up and actual training history by concatenation)\n",
        "history = {'loss': history_warmup['loss'] + history_finetuning['loss'],\n",
        "           'val_loss': history_warmup['val_loss'] + history_finetuning['val_loss'],\n",
        "           'accuracy': history_warmup['accuracy'] + history_finetuning['accuracy'],\n",
        "           'val_accuracy': history_warmup['val_accuracy'] + history_finetuning['val_accuracy']}\n",
        "\n",
        "# Creating a matplotlib figure with two subplots and setting the plot style to 'whitegrid'\n",
        "sns.set_style(\"whitegrid\")\n",
        "fig, (ax1, ax2) = plt.subplots(2, 1, sharex='col', figsize=(20, 14))\n",
        "\n",
        "# Plotting the training loss, validation losses, legend and title on the first subplot\n",
        "ax1.plot(history['loss'], label='Training loss')\n",
        "ax1.plot(history['val_loss'], label='Validation loss')\n",
        "ax1.legend(loc='best')\n",
        "ax1.set_title('Loss')\n",
        "\n",
        "# Plotting the training accuracy, validation accuracy, legend and title on the second subplot\n",
        "ax2.plot(history['accuracy'], label='Training accuracy')\n",
        "ax2.plot(history['val_accuracy'], label='Validation accuracy')\n",
        "ax2.legend(loc='best')\n",
        "ax2.set_title('Accuracy')\n",
        "\n",
        "plt.xlabel('Epochs') # Setting x-label\n",
        "sns.despine() # Removing figure spines\n",
        "plt.show() # Showing the plot"
      ],
      "metadata": {
        "id": "F9JefylN7REr",
        "colab": {
          "base_uri": "https://localhost:8080/",
          "height": 827
        },
        "outputId": "08b73205-d3dd-4599-d526-a7c2af293e39"
      },
      "execution_count": 16,
      "outputs": [
        {
          "output_type": "display_data",
          "data": {
            "text/plain": [
              "<Figure size 2000x1400 with 2 Axes>"
            ],
            "image/png": "[encoded data removed]"
          },
          "metadata": {}
        }
      ]
    },
    {
      "cell_type": "markdown",
      "source": [
        "### Creating Confusion Matrix"
      ],
      "metadata": {
        "id": "Y-9ueAz_FMFR"
      }
    },
    {
      "cell_type": "code",
      "source": [
        "# The following code is used to create labels and calculate data to be used in a confusion matrix\n",
        "# in order to evaluate the model\n",
        "\n",
        "# Creating empty arrays for labels and predictions\n",
        "lastFullTrainPred = np.empty((0, N_CLASSES))\n",
        "lastFullTrainLabels = np.empty((0, N_CLASSES))\n",
        "lastFullValPred = np.empty((0, N_CLASSES))\n",
        "lastFullValLabels = np.empty((0, N_CLASSES))\n",
        "\n",
        "# Adding the training labels and predictions\n",
        "for i in range(STEP_SIZE_TRAIN+1):\n",
        "    im, lbl = next(train_generator)\n",
        "    scores = model.predict(im, batch_size=train_generator.batch_size)\n",
        "    lastFullTrainPred = np.append(lastFullTrainPred, scores, axis=0)\n",
        "    lastFullTrainLabels = np.append(lastFullTrainLabels, lbl, axis=0)\n",
        "\n",
        "# Adding the validation labels and predictions\n",
        "for i in range(STEP_SIZE_VALID+1):\n",
        "    im, lbl = next(valid_generator)\n",
        "    scores = model.predict(im, batch_size=valid_generator.batch_size)\n",
        "    lastFullValPred = np.append(lastFullValPred, scores, axis=0)\n",
        "    lastFullValLabels = np.append(lastFullValLabels, lbl, axis=0)\n",
        "\n",
        "\n",
        "lastFullComPred = np.concatenate((lastFullTrainPred, lastFullValPred)) # Concatenating predictions\n",
        "lastFullComLabels = np.concatenate((lastFullTrainLabels, lastFullValLabels)) # Concatenating labels\n",
        "complete_labels = [np.argmax(label) for label in lastFullComLabels] # Changing the concatenated labels to a list of class labels\n",
        "\n",
        "# Changing the concatenated labels and predictions into class labels for both the training and validation sets\n",
        "train_preds = [np.argmax(pred) for pred in lastFullTrainPred]\n",
        "train_labels = [np.argmax(label) for label in lastFullTrainLabels]\n",
        "validation_preds = [np.argmax(pred) for pred in lastFullValPred]\n",
        "validation_labels = [np.argmax(label) for label in lastFullValLabels]"
      ],
      "metadata": {
        "id": "QZu9yytA__F-",
        "colab": {
          "base_uri": "https://localhost:8080/"
        },
        "outputId": "3946d9c0-7d09-45f7-e2b5-04b3f8dc0a8c"
      },
      "execution_count": 17,
      "outputs": [
        {
          "output_type": "stream",
          "name": "stdout",
          "text": [
            "1/1 [==============================] - 1s 940ms/step\n",
            "1/1 [==============================] - 0s 28ms/step\n",
            "1/1 [==============================] - 0s 25ms/step\n",
            "1/1 [==============================] - 0s 27ms/step\n",
            "1/1 [==============================] - 0s 27ms/step\n",
            "1/1 [==============================] - 0s 24ms/step\n",
            "1/1 [==============================] - 0s 27ms/step\n",
            "1/1 [==============================] - 0s 30ms/step\n",
            "1/1 [==============================] - 0s 26ms/step\n",
            "1/1 [==============================] - 0s 26ms/step\n",
            "1/1 [==============================] - 0s 34ms/step\n",
            "1/1 [==============================] - 0s 25ms/step\n",
            "1/1 [==============================] - 0s 25ms/step\n",
            "1/1 [==============================] - 0s 25ms/step\n",
            "1/1 [==============================] - 0s 23ms/step\n",
            "1/1 [==============================] - 0s 24ms/step\n",
            "1/1 [==============================] - 0s 24ms/step\n",
            "1/1 [==============================] - 0s 26ms/step\n",
            "1/1 [==============================] - 0s 24ms/step\n",
            "1/1 [==============================] - 0s 25ms/step\n",
            "1/1 [==============================] - 0s 24ms/step\n",
            "1/1 [==============================] - 0s 24ms/step\n",
            "1/1 [==============================] - 0s 24ms/step\n",
            "1/1 [==============================] - 0s 24ms/step\n",
            "1/1 [==============================] - 0s 27ms/step\n",
            "1/1 [==============================] - 0s 25ms/step\n",
            "1/1 [==============================] - 0s 24ms/step\n",
            "1/1 [==============================] - 0s 25ms/step\n",
            "1/1 [==============================] - 0s 25ms/step\n",
            "1/1 [==============================] - 0s 24ms/step\n",
            "1/1 [==============================] - 0s 25ms/step\n",
            "1/1 [==============================] - 0s 25ms/step\n",
            "1/1 [==============================] - 0s 26ms/step\n",
            "1/1 [==============================] - 0s 26ms/step\n",
            "1/1 [==============================] - 0s 27ms/step\n",
            "1/1 [==============================] - 0s 27ms/step\n",
            "1/1 [==============================] - 0s 24ms/step\n",
            "1/1 [==============================] - 0s 25ms/step\n",
            "1/1 [==============================] - 0s 23ms/step\n",
            "1/1 [==============================] - 0s 24ms/step\n",
            "1/1 [==============================] - 0s 24ms/step\n",
            "1/1 [==============================] - 0s 23ms/step\n",
            "1/1 [==============================] - 0s 24ms/step\n",
            "1/1 [==============================] - 0s 23ms/step\n",
            "1/1 [==============================] - 0s 24ms/step\n",
            "1/1 [==============================] - 0s 23ms/step\n",
            "1/1 [==============================] - 0s 26ms/step\n",
            "1/1 [==============================] - 0s 23ms/step\n",
            "1/1 [==============================] - 0s 22ms/step\n",
            "1/1 [==============================] - 0s 23ms/step\n",
            "1/1 [==============================] - 0s 24ms/step\n",
            "1/1 [==============================] - 0s 24ms/step\n",
            "1/1 [==============================] - 0s 25ms/step\n",
            "1/1 [==============================] - 0s 23ms/step\n",
            "1/1 [==============================] - 0s 25ms/step\n",
            "1/1 [==============================] - 0s 23ms/step\n",
            "1/1 [==============================] - 0s 23ms/step\n",
            "1/1 [==============================] - 0s 24ms/step\n",
            "1/1 [==============================] - 0s 24ms/step\n",
            "1/1 [==============================] - 0s 25ms/step\n",
            "1/1 [==============================] - 0s 24ms/step\n",
            "1/1 [==============================] - 0s 24ms/step\n",
            "1/1 [==============================] - 0s 25ms/step\n",
            "1/1 [==============================] - 0s 25ms/step\n",
            "1/1 [==============================] - 0s 23ms/step\n",
            "1/1 [==============================] - 0s 25ms/step\n",
            "1/1 [==============================] - 0s 24ms/step\n",
            "1/1 [==============================] - 0s 25ms/step\n",
            "1/1 [==============================] - 0s 27ms/step\n",
            "1/1 [==============================] - 0s 23ms/step\n",
            "1/1 [==============================] - 0s 23ms/step\n",
            "1/1 [==============================] - 0s 23ms/step\n",
            "1/1 [==============================] - 0s 25ms/step\n",
            "1/1 [==============================] - 0s 23ms/step\n",
            "1/1 [==============================] - 0s 25ms/step\n",
            "1/1 [==============================] - 0s 24ms/step\n",
            "1/1 [==============================] - 0s 23ms/step\n",
            "1/1 [==============================] - 0s 23ms/step\n",
            "1/1 [==============================] - 0s 24ms/step\n",
            "1/1 [==============================] - 0s 25ms/step\n",
            "1/1 [==============================] - 0s 23ms/step\n",
            "1/1 [==============================] - 0s 23ms/step\n",
            "1/1 [==============================] - 0s 23ms/step\n",
            "1/1 [==============================] - 0s 24ms/step\n",
            "1/1 [==============================] - 0s 23ms/step\n",
            "1/1 [==============================] - 0s 24ms/step\n",
            "1/1 [==============================] - 0s 22ms/step\n",
            "1/1 [==============================] - 0s 24ms/step\n",
            "1/1 [==============================] - 0s 23ms/step\n",
            "1/1 [==============================] - 0s 23ms/step\n",
            "1/1 [==============================] - 0s 24ms/step\n",
            "1/1 [==============================] - 0s 24ms/step\n",
            "1/1 [==============================] - 0s 23ms/step\n",
            "1/1 [==============================] - 0s 24ms/step\n",
            "1/1 [==============================] - 0s 24ms/step\n",
            "1/1 [==============================] - 0s 24ms/step\n",
            "1/1 [==============================] - 0s 26ms/step\n",
            "1/1 [==============================] - 0s 23ms/step\n",
            "1/1 [==============================] - 0s 24ms/step\n",
            "1/1 [==============================] - 0s 25ms/step\n",
            "1/1 [==============================] - 0s 25ms/step\n",
            "1/1 [==============================] - 0s 24ms/step\n",
            "1/1 [==============================] - 0s 24ms/step\n",
            "1/1 [==============================] - 0s 25ms/step\n",
            "1/1 [==============================] - 0s 25ms/step\n",
            "1/1 [==============================] - 0s 26ms/step\n",
            "1/1 [==============================] - 0s 29ms/step\n",
            "1/1 [==============================] - 0s 24ms/step\n",
            "1/1 [==============================] - 0s 24ms/step\n",
            "1/1 [==============================] - 0s 26ms/step\n",
            "1/1 [==============================] - 0s 26ms/step\n",
            "1/1 [==============================] - 0s 27ms/step\n",
            "1/1 [==============================] - 0s 26ms/step\n",
            "1/1 [==============================] - 0s 25ms/step\n",
            "1/1 [==============================] - 0s 24ms/step\n",
            "1/1 [==============================] - 0s 26ms/step\n",
            "1/1 [==============================] - 0s 24ms/step\n",
            "1/1 [==============================] - 0s 25ms/step\n",
            "1/1 [==============================] - 0s 23ms/step\n",
            "1/1 [==============================] - 0s 27ms/step\n",
            "1/1 [==============================] - 0s 24ms/step\n",
            "1/1 [==============================] - 0s 27ms/step\n",
            "1/1 [==============================] - 0s 26ms/step\n",
            "1/1 [==============================] - 0s 27ms/step\n",
            "1/1 [==============================] - 0s 28ms/step\n",
            "1/1 [==============================] - 0s 26ms/step\n",
            "1/1 [==============================] - 0s 26ms/step\n",
            "1/1 [==============================] - 0s 28ms/step\n",
            "1/1 [==============================] - 0s 25ms/step\n",
            "1/1 [==============================] - 0s 26ms/step\n",
            "1/1 [==============================] - 0s 27ms/step\n",
            "1/1 [==============================] - 0s 25ms/step\n",
            "1/1 [==============================] - 0s 26ms/step\n",
            "1/1 [==============================] - 0s 25ms/step\n",
            "1/1 [==============================] - 0s 27ms/step\n",
            "1/1 [==============================] - 0s 24ms/step\n",
            "1/1 [==============================] - 0s 26ms/step\n",
            "1/1 [==============================] - 0s 25ms/step\n",
            "1/1 [==============================] - 0s 25ms/step\n",
            "1/1 [==============================] - 0s 25ms/step\n",
            "1/1 [==============================] - 0s 25ms/step\n",
            "1/1 [==============================] - 0s 26ms/step\n",
            "1/1 [==============================] - 0s 27ms/step\n",
            "1/1 [==============================] - 0s 27ms/step\n",
            "1/1 [==============================] - 0s 28ms/step\n",
            "1/1 [==============================] - 0s 25ms/step\n",
            "1/1 [==============================] - 0s 24ms/step\n",
            "1/1 [==============================] - 0s 24ms/step\n",
            "1/1 [==============================] - 0s 26ms/step\n",
            "1/1 [==============================] - 0s 24ms/step\n",
            "1/1 [==============================] - 0s 25ms/step\n",
            "1/1 [==============================] - 0s 26ms/step\n",
            "1/1 [==============================] - 0s 24ms/step\n",
            "1/1 [==============================] - 0s 25ms/step\n",
            "1/1 [==============================] - 0s 25ms/step\n",
            "1/1 [==============================] - 0s 25ms/step\n",
            "1/1 [==============================] - 0s 24ms/step\n",
            "1/1 [==============================] - 0s 24ms/step\n",
            "1/1 [==============================] - 0s 24ms/step\n",
            "1/1 [==============================] - 0s 25ms/step\n",
            "1/1 [==============================] - 0s 25ms/step\n",
            "1/1 [==============================] - 0s 24ms/step\n",
            "1/1 [==============================] - 0s 24ms/step\n",
            "1/1 [==============================] - 0s 25ms/step\n",
            "1/1 [==============================] - 0s 27ms/step\n",
            "1/1 [==============================] - 0s 25ms/step\n",
            "1/1 [==============================] - 0s 24ms/step\n",
            "1/1 [==============================] - 0s 26ms/step\n",
            "1/1 [==============================] - 0s 24ms/step\n",
            "1/1 [==============================] - 0s 24ms/step\n",
            "1/1 [==============================] - 0s 24ms/step\n",
            "1/1 [==============================] - 0s 24ms/step\n",
            "1/1 [==============================] - 0s 25ms/step\n",
            "1/1 [==============================] - 0s 25ms/step\n",
            "1/1 [==============================] - 0s 24ms/step\n",
            "1/1 [==============================] - 0s 25ms/step\n",
            "1/1 [==============================] - 0s 24ms/step\n",
            "1/1 [==============================] - 0s 25ms/step\n",
            "1/1 [==============================] - 0s 25ms/step\n",
            "1/1 [==============================] - 0s 24ms/step\n",
            "1/1 [==============================] - 0s 24ms/step\n",
            "1/1 [==============================] - 0s 24ms/step\n",
            "1/1 [==============================] - 0s 25ms/step\n",
            "1/1 [==============================] - 0s 24ms/step\n",
            "1/1 [==============================] - 0s 24ms/step\n",
            "1/1 [==============================] - 0s 25ms/step\n",
            "1/1 [==============================] - 0s 24ms/step\n",
            "1/1 [==============================] - 0s 37ms/step\n",
            "1/1 [==============================] - 0s 24ms/step\n",
            "1/1 [==============================] - 0s 24ms/step\n",
            "1/1 [==============================] - 0s 36ms/step\n",
            "1/1 [==============================] - 0s 25ms/step\n",
            "1/1 [==============================] - 0s 25ms/step\n",
            "1/1 [==============================] - 0s 25ms/step\n",
            "1/1 [==============================] - 0s 37ms/step\n",
            "1/1 [==============================] - 0s 27ms/step\n",
            "1/1 [==============================] - 0s 26ms/step\n",
            "1/1 [==============================] - 0s 26ms/step\n",
            "1/1 [==============================] - 0s 25ms/step\n",
            "1/1 [==============================] - 0s 24ms/step\n",
            "1/1 [==============================] - 0s 25ms/step\n",
            "1/1 [==============================] - 0s 25ms/step\n",
            "1/1 [==============================] - 0s 26ms/step\n",
            "1/1 [==============================] - 0s 25ms/step\n",
            "1/1 [==============================] - 0s 25ms/step\n",
            "1/1 [==============================] - 0s 26ms/step\n",
            "1/1 [==============================] - 0s 25ms/step\n",
            "1/1 [==============================] - 0s 27ms/step\n",
            "1/1 [==============================] - 0s 24ms/step\n",
            "1/1 [==============================] - 0s 25ms/step\n",
            "1/1 [==============================] - 0s 24ms/step\n",
            "1/1 [==============================] - 0s 24ms/step\n",
            "1/1 [==============================] - 0s 23ms/step\n",
            "1/1 [==============================] - 0s 26ms/step\n",
            "1/1 [==============================] - 0s 26ms/step\n",
            "1/1 [==============================] - 0s 24ms/step\n",
            "1/1 [==============================] - 0s 24ms/step\n",
            "1/1 [==============================] - 0s 24ms/step\n",
            "1/1 [==============================] - 0s 24ms/step\n",
            "1/1 [==============================] - 0s 24ms/step\n",
            "1/1 [==============================] - 0s 24ms/step\n",
            "1/1 [==============================] - 0s 26ms/step\n",
            "1/1 [==============================] - 0s 24ms/step\n",
            "1/1 [==============================] - 0s 24ms/step\n",
            "1/1 [==============================] - 0s 26ms/step\n",
            "1/1 [==============================] - 0s 24ms/step\n",
            "1/1 [==============================] - 0s 25ms/step\n",
            "1/1 [==============================] - 0s 23ms/step\n",
            "1/1 [==============================] - 0s 24ms/step\n",
            "1/1 [==============================] - 0s 23ms/step\n",
            "1/1 [==============================] - 0s 24ms/step\n",
            "1/1 [==============================] - 0s 24ms/step\n",
            "1/1 [==============================] - 0s 27ms/step\n",
            "1/1 [==============================] - 0s 25ms/step\n",
            "1/1 [==============================] - 0s 24ms/step\n",
            "1/1 [==============================] - 0s 24ms/step\n",
            "1/1 [==============================] - 0s 24ms/step\n",
            "1/1 [==============================] - 0s 23ms/step\n",
            "1/1 [==============================] - 0s 23ms/step\n",
            "1/1 [==============================] - 0s 23ms/step\n",
            "1/1 [==============================] - 0s 26ms/step\n",
            "1/1 [==============================] - 0s 26ms/step\n",
            "1/1 [==============================] - 0s 24ms/step\n",
            "1/1 [==============================] - 0s 25ms/step\n",
            "1/1 [==============================] - 0s 25ms/step\n",
            "1/1 [==============================] - 0s 25ms/step\n",
            "1/1 [==============================] - 0s 24ms/step\n",
            "1/1 [==============================] - 0s 24ms/step\n",
            "1/1 [==============================] - 0s 24ms/step\n",
            "1/1 [==============================] - 0s 24ms/step\n",
            "1/1 [==============================] - 0s 23ms/step\n",
            "1/1 [==============================] - 0s 26ms/step\n",
            "1/1 [==============================] - 0s 25ms/step\n",
            "1/1 [==============================] - 0s 24ms/step\n",
            "1/1 [==============================] - 0s 24ms/step\n",
            "1/1 [==============================] - 0s 23ms/step\n",
            "1/1 [==============================] - 0s 23ms/step\n",
            "1/1 [==============================] - 0s 25ms/step\n",
            "1/1 [==============================] - 0s 25ms/step\n",
            "1/1 [==============================] - 0s 27ms/step\n",
            "1/1 [==============================] - 0s 27ms/step\n",
            "1/1 [==============================] - 0s 25ms/step\n",
            "1/1 [==============================] - 0s 23ms/step\n",
            "1/1 [==============================] - 0s 25ms/step\n",
            "1/1 [==============================] - 0s 24ms/step\n",
            "1/1 [==============================] - 0s 23ms/step\n",
            "1/1 [==============================] - 0s 23ms/step\n",
            "1/1 [==============================] - 0s 23ms/step\n",
            "1/1 [==============================] - 0s 24ms/step\n",
            "1/1 [==============================] - 0s 23ms/step\n",
            "1/1 [==============================] - 0s 23ms/step\n",
            "1/1 [==============================] - 0s 24ms/step\n",
            "1/1 [==============================] - 0s 24ms/step\n",
            "1/1 [==============================] - 0s 24ms/step\n",
            "1/1 [==============================] - 0s 25ms/step\n",
            "1/1 [==============================] - 0s 24ms/step\n",
            "1/1 [==============================] - 0s 24ms/step\n",
            "1/1 [==============================] - 0s 25ms/step\n",
            "1/1 [==============================] - 0s 24ms/step\n",
            "1/1 [==============================] - 0s 24ms/step\n",
            "1/1 [==============================] - 0s 24ms/step\n",
            "1/1 [==============================] - 0s 23ms/step\n",
            "1/1 [==============================] - 0s 23ms/step\n",
            "1/1 [==============================] - 0s 24ms/step\n",
            "1/1 [==============================] - 0s 24ms/step\n",
            "1/1 [==============================] - 0s 24ms/step\n",
            "1/1 [==============================] - 0s 24ms/step\n",
            "1/1 [==============================] - 0s 24ms/step\n",
            "1/1 [==============================] - 0s 24ms/step\n",
            "1/1 [==============================] - 0s 23ms/step\n",
            "1/1 [==============================] - 0s 24ms/step\n",
            "1/1 [==============================] - 0s 24ms/step\n",
            "1/1 [==============================] - 0s 25ms/step\n",
            "1/1 [==============================] - 0s 23ms/step\n",
            "1/1 [==============================] - 0s 25ms/step\n",
            "1/1 [==============================] - 0s 24ms/step\n",
            "1/1 [==============================] - 0s 23ms/step\n",
            "1/1 [==============================] - 0s 24ms/step\n",
            "1/1 [==============================] - 0s 24ms/step\n",
            "1/1 [==============================] - 0s 25ms/step\n",
            "1/1 [==============================] - 0s 23ms/step\n",
            "1/1 [==============================] - 0s 24ms/step\n",
            "1/1 [==============================] - 0s 25ms/step\n",
            "1/1 [==============================] - 0s 24ms/step\n",
            "1/1 [==============================] - 0s 24ms/step\n",
            "1/1 [==============================] - 0s 24ms/step\n",
            "1/1 [==============================] - 0s 25ms/step\n",
            "1/1 [==============================] - 0s 24ms/step\n",
            "1/1 [==============================] - 0s 25ms/step\n",
            "1/1 [==============================] - 0s 25ms/step\n",
            "1/1 [==============================] - 0s 24ms/step\n",
            "1/1 [==============================] - 0s 24ms/step\n",
            "1/1 [==============================] - 0s 24ms/step\n",
            "1/1 [==============================] - 0s 24ms/step\n",
            "1/1 [==============================] - 0s 25ms/step\n",
            "1/1 [==============================] - 0s 24ms/step\n",
            "1/1 [==============================] - 0s 28ms/step\n",
            "1/1 [==============================] - 0s 26ms/step\n",
            "1/1 [==============================] - 0s 25ms/step\n",
            "1/1 [==============================] - 0s 24ms/step\n",
            "1/1 [==============================] - 0s 24ms/step\n",
            "1/1 [==============================] - 0s 25ms/step\n",
            "1/1 [==============================] - 0s 25ms/step\n",
            "1/1 [==============================] - 0s 24ms/step\n",
            "1/1 [==============================] - 0s 28ms/step\n",
            "1/1 [==============================] - 0s 27ms/step\n",
            "1/1 [==============================] - 0s 25ms/step\n",
            "1/1 [==============================] - 0s 26ms/step\n",
            "1/1 [==============================] - 0s 24ms/step\n",
            "1/1 [==============================] - 0s 23ms/step\n",
            "1/1 [==============================] - 0s 24ms/step\n",
            "1/1 [==============================] - 0s 25ms/step\n",
            "1/1 [==============================] - 0s 23ms/step\n",
            "1/1 [==============================] - 0s 23ms/step\n",
            "1/1 [==============================] - 0s 23ms/step\n",
            "1/1 [==============================] - 0s 25ms/step\n",
            "1/1 [==============================] - 0s 25ms/step\n",
            "1/1 [==============================] - 0s 25ms/step\n",
            "1/1 [==============================] - 0s 23ms/step\n",
            "1/1 [==============================] - 0s 25ms/step\n",
            "1/1 [==============================] - 0s 25ms/step\n",
            "1/1 [==============================] - 0s 23ms/step\n",
            "1/1 [==============================] - 0s 25ms/step\n",
            "1/1 [==============================] - 0s 24ms/step\n",
            "1/1 [==============================] - 0s 23ms/step\n",
            "1/1 [==============================] - 0s 25ms/step\n",
            "1/1 [==============================] - 0s 24ms/step\n",
            "1/1 [==============================] - 0s 26ms/step\n",
            "1/1 [==============================] - 0s 26ms/step\n",
            "1/1 [==============================] - 0s 26ms/step\n",
            "1/1 [==============================] - 0s 24ms/step\n",
            "1/1 [==============================] - 0s 24ms/step\n",
            "1/1 [==============================] - 0s 25ms/step\n",
            "1/1 [==============================] - 0s 23ms/step\n",
            "1/1 [==============================] - 0s 23ms/step\n",
            "1/1 [==============================] - 0s 24ms/step\n",
            "1/1 [==============================] - 0s 23ms/step\n",
            "1/1 [==============================] - 0s 24ms/step\n",
            "1/1 [==============================] - 0s 24ms/step\n",
            "1/1 [==============================] - 0s 24ms/step\n",
            "1/1 [==============================] - 0s 24ms/step\n",
            "1/1 [==============================] - 0s 23ms/step\n",
            "1/1 [==============================] - 0s 24ms/step\n",
            "1/1 [==============================] - 0s 24ms/step\n",
            "1/1 [==============================] - 0s 23ms/step\n",
            "1/1 [==============================] - 0s 23ms/step\n",
            "1/1 [==============================] - 1s 899ms/step\n",
            "1/1 [==============================] - 0s 23ms/step\n",
            "1/1 [==============================] - 0s 24ms/step\n",
            "1/1 [==============================] - 0s 24ms/step\n",
            "1/1 [==============================] - 0s 23ms/step\n",
            "1/1 [==============================] - 0s 22ms/step\n",
            "1/1 [==============================] - 0s 23ms/step\n",
            "1/1 [==============================] - 0s 24ms/step\n",
            "1/1 [==============================] - 0s 24ms/step\n",
            "1/1 [==============================] - 0s 23ms/step\n",
            "1/1 [==============================] - 0s 24ms/step\n",
            "1/1 [==============================] - 0s 23ms/step\n",
            "1/1 [==============================] - 0s 24ms/step\n",
            "1/1 [==============================] - 0s 23ms/step\n",
            "1/1 [==============================] - 0s 24ms/step\n",
            "1/1 [==============================] - 0s 25ms/step\n",
            "1/1 [==============================] - 0s 25ms/step\n",
            "1/1 [==============================] - 0s 23ms/step\n",
            "1/1 [==============================] - 0s 26ms/step\n",
            "1/1 [==============================] - 0s 25ms/step\n",
            "1/1 [==============================] - 0s 24ms/step\n",
            "1/1 [==============================] - 0s 25ms/step\n",
            "1/1 [==============================] - 0s 24ms/step\n",
            "1/1 [==============================] - 0s 26ms/step\n",
            "1/1 [==============================] - 0s 24ms/step\n",
            "1/1 [==============================] - 0s 25ms/step\n",
            "1/1 [==============================] - 0s 27ms/step\n",
            "1/1 [==============================] - 0s 25ms/step\n",
            "1/1 [==============================] - 0s 24ms/step\n",
            "1/1 [==============================] - 0s 24ms/step\n",
            "1/1 [==============================] - 0s 26ms/step\n",
            "1/1 [==============================] - 0s 28ms/step\n",
            "1/1 [==============================] - 0s 25ms/step\n",
            "1/1 [==============================] - 0s 27ms/step\n",
            "1/1 [==============================] - 0s 24ms/step\n",
            "1/1 [==============================] - 0s 23ms/step\n",
            "1/1 [==============================] - 0s 26ms/step\n",
            "1/1 [==============================] - 0s 24ms/step\n",
            "1/1 [==============================] - 0s 23ms/step\n",
            "1/1 [==============================] - 0s 24ms/step\n",
            "1/1 [==============================] - 0s 24ms/step\n",
            "1/1 [==============================] - 0s 24ms/step\n",
            "1/1 [==============================] - 0s 24ms/step\n",
            "1/1 [==============================] - 0s 23ms/step\n",
            "1/1 [==============================] - 0s 22ms/step\n",
            "1/1 [==============================] - 0s 24ms/step\n",
            "1/1 [==============================] - 0s 24ms/step\n",
            "1/1 [==============================] - 0s 23ms/step\n",
            "1/1 [==============================] - 0s 24ms/step\n",
            "1/1 [==============================] - 0s 23ms/step\n",
            "1/1 [==============================] - 0s 24ms/step\n",
            "1/1 [==============================] - 0s 26ms/step\n",
            "1/1 [==============================] - 0s 24ms/step\n",
            "1/1 [==============================] - 0s 24ms/step\n",
            "1/1 [==============================] - 0s 23ms/step\n",
            "1/1 [==============================] - 0s 24ms/step\n",
            "1/1 [==============================] - 0s 23ms/step\n",
            "1/1 [==============================] - 0s 23ms/step\n",
            "1/1 [==============================] - 0s 24ms/step\n",
            "1/1 [==============================] - 0s 25ms/step\n",
            "1/1 [==============================] - 0s 25ms/step\n",
            "1/1 [==============================] - 0s 27ms/step\n",
            "1/1 [==============================] - 0s 25ms/step\n",
            "1/1 [==============================] - 0s 24ms/step\n",
            "1/1 [==============================] - 0s 26ms/step\n",
            "1/1 [==============================] - 0s 24ms/step\n",
            "1/1 [==============================] - 0s 25ms/step\n",
            "1/1 [==============================] - 0s 24ms/step\n",
            "1/1 [==============================] - 0s 24ms/step\n",
            "1/1 [==============================] - 0s 25ms/step\n",
            "1/1 [==============================] - 0s 26ms/step\n",
            "1/1 [==============================] - 0s 25ms/step\n",
            "1/1 [==============================] - 0s 25ms/step\n",
            "1/1 [==============================] - 0s 25ms/step\n",
            "1/1 [==============================] - 0s 24ms/step\n",
            "1/1 [==============================] - 0s 24ms/step\n",
            "1/1 [==============================] - 0s 24ms/step\n",
            "1/1 [==============================] - 0s 28ms/step\n",
            "1/1 [==============================] - 0s 24ms/step\n",
            "1/1 [==============================] - 0s 24ms/step\n",
            "1/1 [==============================] - 0s 25ms/step\n",
            "1/1 [==============================] - 0s 25ms/step\n",
            "1/1 [==============================] - 0s 25ms/step\n",
            "1/1 [==============================] - 0s 23ms/step\n",
            "1/1 [==============================] - 0s 25ms/step\n",
            "1/1 [==============================] - 0s 24ms/step\n",
            "1/1 [==============================] - 0s 23ms/step\n",
            "1/1 [==============================] - 0s 24ms/step\n",
            "1/1 [==============================] - 0s 24ms/step\n",
            "1/1 [==============================] - 0s 25ms/step\n",
            "1/1 [==============================] - 0s 24ms/step\n",
            "1/1 [==============================] - 0s 24ms/step\n",
            "1/1 [==============================] - 0s 448ms/step\n"
          ]
        }
      ]
    },
    {
      "cell_type": "code",
      "source": [
        "# The following code is used to create and plot the two confusion matrices\n",
        "\n",
        "fig, (ax1, ax2) = plt.subplots(1, 2, sharex='col', figsize=(24, 7)) # Creating figure with two subplots\n",
        "labels = ['0 - No DR', '1 - Mild', '2 - Moderate', '3 - Severe', '4 - Proliferative DR'] # Defining labels\n",
        "train_cnf_matrix = confusion_matrix(train_labels, train_preds) # Creating confusion matrix for train set\n",
        "validation_cnf_matrix = confusion_matrix(validation_labels, validation_preds) # Creating confusion matrix for validation set\n",
        "\n",
        "# Normalising the two confusion matrices\n",
        "train_cnf_matrix_norm = train_cnf_matrix.astype('float') / train_cnf_matrix.sum(axis=1)[:, np.newaxis]\n",
        "validation_cnf_matrix_norm = validation_cnf_matrix.astype('float') / validation_cnf_matrix.sum(axis=1)[:, np.newaxis]\n",
        "\n",
        "# Creating dataframes of the two normalised confusion matrices\n",
        "train_df_cm = pd.DataFrame(train_cnf_matrix_norm, index=labels, columns=labels)\n",
        "validation_df_cm = pd.DataFrame(validation_cnf_matrix_norm, index=labels, columns=labels)\n",
        "\n",
        "# Adding heatmap visualisations (blue and red) and a title to the two normalised confusion matrices, then showing the final plot\n",
        "sns.heatmap(train_df_cm, annot=True, fmt='.2f', cmap=\"Blues\", ax=ax1).set_title('Train')\n",
        "sns.heatmap(validation_df_cm, annot=True, fmt='.2f', cmap=sns.cubehelix_palette(8), ax=ax2).set_title('Validation')\n",
        "plt.show()"
      ],
      "metadata": {
        "id": "_i8IhnnWCdrq",
        "colab": {
          "base_uri": "https://localhost:8080/",
          "height": 360
        },
        "outputId": "c64f93f7-5846-4a0b-9833-fc20cf3cbf35"
      },
      "execution_count": 18,
      "outputs": [
        {
          "output_type": "display_data",
          "data": {
            "text/plain": [
              "<Figure size 2400x700 with 4 Axes>"
            ],
            "image/png": "[encoded data removed]"
          },
          "metadata": {}
        }
      ]
    },
    {
      "cell_type": "markdown",
      "source": [
        "### Calculating Cohen Kappa Scores"
      ],
      "metadata": {
        "id": "ANT7pjH0Fqiz"
      }
    },
    {
      "cell_type": "code",
      "source": [
        "# Calculating and printing the Cohen Kappa score for the training and validation sets, as well as the overall score\n",
        "print(\"Training Cohen Kappa score: %.3f\" % cohen_kappa_score(train_preds,train_labels, weights='quadratic'))\n",
        "print(\"Validation Cohen Kappa score: %.3f\" % cohen_kappa_score(validation_preds, validation_labels, weights='quadratic'))\n",
        "print(\"Overall Cohen Kappa score: %.3f\" % cohen_kappa_score(train_preds+validation_preds, train_labels+validation_labels, weights='quadratic'))"
      ],
      "metadata": {
        "id": "AujqHLI6H1sH",
        "colab": {
          "base_uri": "https://localhost:8080/"
        },
        "outputId": "3597690d-dd6d-41fc-f9bb-6a7b9fab81a0"
      },
      "execution_count": 19,
      "outputs": [
        {
          "output_type": "stream",
          "name": "stdout",
          "text": [
            "Training Cohen Kappa score: 0.938\n",
            "Validation Cohen Kappa score: 0.838\n",
            "Overall Cohen Kappa score: 0.919\n"
          ]
        }
      ]
    },
    {
      "cell_type": "markdown",
      "source": [
        "## Saving the Trained Model"
      ],
      "metadata": {
        "id": "gyslEKKvFzPK"
      }
    },
    {
      "cell_type": "code",
      "source": [
        "# Saving the trained model for future use\n",
        "pickle.dump(model , open('/content/gdrive/MyDrive/Dissertation/final-year-project-AodhanGallagher/ModelTraining/Models/diabetic_retinopathy_classifier.pk1' , 'wb'))\n",
        "\n",
        "# Confirming that the model was saved\n",
        "print(\"Model Saved\")"
      ],
      "metadata": {
        "id": "TdVdPAzaI1do",
        "colab": {
          "base_uri": "https://localhost:8080/"
        },
        "outputId": "1c4606a1-dc44-45d4-d6a9-915ae1387f81"
      },
      "execution_count": 20,
      "outputs": [
        {
          "output_type": "stream",
          "name": "stdout",
          "text": [
            "Model Saved\n"
          ]
        }
      ]
    },
    {
      "cell_type": "markdown",
      "source": [
        "## Testing the Model's Diagnoses on the Test Set"
      ],
      "metadata": {
        "id": "rPifXakkF3bS"
      }
    },
    {
      "cell_type": "code",
      "source": [
        "# Resetting the test generator and calculating the step size for the test set\n",
        "test_generator.reset()\n",
        "STEP_SIZE_TEST = test_generator.n//test_generator.batch_size\n",
        "\n",
        "# Generating predictions for the test set and converting the prediction probabilities into class labels\n",
        "preds = model.predict_generator(test_generator, steps=STEP_SIZE_TEST)\n",
        "predictions = [np.argmax(pred) for pred in preds]\n",
        "\n",
        "filenames = test_generator.filenames # Retrieving filenames from the test generator\n",
        "results = pd.DataFrame({'id_code':filenames, 'diagnosis':predictions}) # Creating a dataframe with columns for filename and (predicted) diagnosis\n",
        "results['id_code'] = results['id_code'].map(lambda x: str(x)[:-4]) # Removing extensions (.png) from the filename (for display purposes)"
      ],
      "metadata": {
        "id": "3zyXP01I8TyZ"
      },
      "execution_count": 21,
      "outputs": []
    },
    {
      "cell_type": "code",
      "source": [
        "# Creating barchart and configuring it for displaying the predictions class distribution\n",
        "fig = plt.subplots(1, 1, sharex='col', figsize=(24, 8.7))\n",
        "sns.countplot(x=\"diagnosis\", data=results, palette=\"GnBu_d\")\n",
        "sns.despine()\n",
        "plt.show()"
      ],
      "metadata": {
        "id": "0gnGDiDa-g5f",
        "colab": {
          "base_uri": "https://localhost:8080/",
          "height": 440
        },
        "outputId": "53cc9475-c9ea-4f3f-a499-28b0dccc3c02"
      },
      "execution_count": 22,
      "outputs": [
        {
          "output_type": "display_data",
          "data": {
            "text/plain": [
              "<Figure size 2400x870 with 1 Axes>"
            ],
            "image/png": "[encoded data removed]"
          },
          "metadata": {}
        }
      ]
    },
    {
      "cell_type": "markdown",
      "source": [
        "## Saving Test Results"
      ],
      "metadata": {
        "id": "07jP66VeGdK5"
      }
    },
    {
      "cell_type": "code",
      "source": [
        "# Saving the model's test set diagnoses results for viewing purposes\n",
        "results.to_csv('test_model_diagnosis.csv', index=False)\n",
        "print(\"Model's test set diagnosis saved correctly\")"
      ],
      "metadata": {
        "id": "Em7OSPq4_AWh",
        "colab": {
          "base_uri": "https://localhost:8080/"
        },
        "outputId": "7c06dfec-c129-4eb5-f5d3-959d6b248f70"
      },
      "execution_count": 23,
      "outputs": [
        {
          "output_type": "stream",
          "name": "stdout",
          "text": [
            "Model's test set diagnosis saved correctly\n"
          ]
        }
      ]
    }
  ]
}